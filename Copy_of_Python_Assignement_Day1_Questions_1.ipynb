{
  "cells": [
    {
      "cell_type": "markdown",
      "metadata": {
        "id": "D-KgkVX3IZ-S"
      },
      "source": [
        "1.  Python Program to exchange the values of two numbers without using a temporary variable."
      ]
    },
    {
      "cell_type": "code",
      "execution_count": null,
      "metadata": {
        "colab": {
          "base_uri": "https://localhost:8080/"
        },
        "id": "yldf_YhdIZ-T",
        "outputId": "246ab57a-3c20-4eff-e782-ed96ebc51d6a"
      },
      "outputs": [
        {
          "output_type": "stream",
          "name": "stdout",
          "text": [
            "input a=2\n",
            "input b=3\n",
            "a= 3\n",
            "b= 2\n"
          ]
        }
      ],
      "source": [
        "a=int(input('input a='))\n",
        "b=int(input('input b='))\n",
        "a=a+b\n",
        "b=a-b\n",
        "a=a-b\n",
        "print('a=',a)\n",
        "print('b=',b)"
      ]
    },
    {
      "cell_type": "markdown",
      "metadata": {
        "id": "MrK3aZMGIZ-Y"
      },
      "source": [
        "2. Write a python code to replace all  \"a\"  with 2 for the given variable\n",
        "s = 'abc12321cba'"
      ]
    },
    {
      "cell_type": "code",
      "execution_count": null,
      "metadata": {
        "id": "J7rr7O5XIZ-Z"
      },
      "outputs": [],
      "source": [
        "s = 'abc12321cba'\n",
        "s\n",
        "s = s.replace('a', '2')\n",
        "s"
      ]
    },
    {
      "cell_type": "markdown",
      "metadata": {
        "id": "Zo8gMGlbIZ-g"
      },
      "source": [
        "3. Python code for to  remove first character in string?"
      ]
    },
    {
      "cell_type": "code",
      "execution_count": null,
      "metadata": {
        "colab": {
          "base_uri": "https://localhost:8080/"
        },
        "id": "XTIKmVpiIZ-h",
        "outputId": "059210a0-62ba-42c6-c2e7-69f10a6f8144"
      },
      "outputs": [
        {
          "output_type": "stream",
          "name": "stdout",
          "text": [
            "write anything -cdtdj\n",
            "dtdj\n"
          ]
        }
      ],
      "source": [
        "a=input('write anything -')\n",
        "print(a[1:])\n"
      ]
    },
    {
      "cell_type": "markdown",
      "metadata": {
        "id": "XBhfFfEIIZ-n"
      },
      "source": [
        "4. Concatenate two strings  \n",
        "First Input : \"hello\"\n",
        "Second Input : \"guvi\"\n",
        "desired output :   \"hello guvi\""
      ]
    },
    {
      "cell_type": "code",
      "execution_count": null,
      "metadata": {
        "colab": {
          "base_uri": "https://localhost:8080/"
        },
        "id": "qVhNDe9mIZ-p",
        "outputId": "a07f50c8-7a99-41b1-ebdc-e22fc2070c6e"
      },
      "outputs": [
        {
          "output_type": "stream",
          "name": "stdout",
          "text": [
            "first input-hello\n",
            "Second Input-guvi\n",
            "hello guvi\n"
          ]
        }
      ],
      "source": [
        "a=input('first input-')\n",
        "b=input('Second Input-')\n",
        "print(a+' '+b)"
      ]
    },
    {
      "cell_type": "markdown",
      "metadata": {
        "id": "W1CyejMTIZ-t"
      },
      "source": [
        "5. Repeat the string \"hello guvi\" 3 times\n",
        "desired output :  'hello guvi hello guvi hello guvi '"
      ]
    },
    {
      "cell_type": "code",
      "execution_count": null,
      "metadata": {
        "colab": {
          "base_uri": "https://localhost:8080/"
        },
        "id": "6B83XYHVIZ-u",
        "outputId": "ba1d9de1-6a07-4711-8977-3d5732eee1b6"
      },
      "outputs": [
        {
          "output_type": "stream",
          "name": "stdout",
          "text": [
            "hello guvi hello guvi hello guvi \n"
          ]
        }
      ],
      "source": [
        "a='hello guvi'\n",
        "print((a+' ')*3)"
      ]
    },
    {
      "cell_type": "markdown",
      "metadata": {
        "id": "4oblWnrSIZ-y"
      },
      "source": [
        "6. Create 3 variables a1,a2,a3. Assign the same value \" 4 \" to all the variables in a single line of code."
      ]
    },
    {
      "cell_type": "code",
      "execution_count": null,
      "metadata": {
        "id": "O7nH3nd-IZ-y"
      },
      "outputs": [],
      "source": [
        "a1=a2=a3=4"
      ]
    },
    {
      "cell_type": "markdown",
      "metadata": {
        "id": "fs_t4D-oIZ-2"
      },
      "source": [
        "7. Calculate BMI of a person using the height and weight.\n",
        "BMI = weight / (height **2)\n"
      ]
    },
    {
      "cell_type": "code",
      "execution_count": null,
      "metadata": {
        "colab": {
          "base_uri": "https://localhost:8080/"
        },
        "id": "N_VZSoYjIZ-3",
        "outputId": "ec8b6699-9fa4-4cff-8145-9365e69483ba"
      },
      "outputs": [
        {
          "name": "stdout",
          "output_type": "stream",
          "text": [
            "5.9\n",
            "75\n"
          ]
        },
        {
          "output_type": "execute_result",
          "data": {
            "text/plain": [
              "2.154553289284688"
            ]
          },
          "metadata": {},
          "execution_count": 21
        }
      ],
      "source": [
        "height=float(input())\n",
        "weight=float(input())\n",
        "BMI=weight/(height**2)\n",
        "BMI"
      ]
    },
    {
      "cell_type": "markdown",
      "metadata": {
        "id": "JgXK2m28IZ-7"
      },
      "source": [
        "8.Write a python program to calculate the area of circle."
      ]
    },
    {
      "cell_type": "code",
      "execution_count": null,
      "metadata": {
        "colab": {
          "base_uri": "https://localhost:8080/"
        },
        "id": "m73v7qoCIZ-8",
        "outputId": "d9a9f838-6023-4c13-a068-68ffe42504d1"
      },
      "outputs": [
        {
          "output_type": "stream",
          "name": "stdout",
          "text": [
            "radius of the circle - 2\n",
            "Area of the circle is 12.568 sq mm.\n"
          ]
        }
      ],
      "source": [
        "pi=3.142\n",
        "r=float(input('radius of the circle - '))\n",
        "A=pi*(r**2)\n",
        "area=str(A)\n",
        "print('Area of the circle is '+area+' sq mm.')"
      ]
    },
    {
      "cell_type": "markdown",
      "metadata": {
        "id": "BHXFt9VwIZ_A"
      },
      "source": [
        "9.Calculate the simple interest\n",
        "simple_interest = p * n * r /100"
      ]
    },
    {
      "cell_type": "code",
      "execution_count": null,
      "metadata": {
        "colab": {
          "base_uri": "https://localhost:8080/"
        },
        "id": "7wHLjXC4IZ_B",
        "outputId": "73657600-8916-46da-f050-1d48178ef9a3"
      },
      "outputs": [
        {
          "output_type": "stream",
          "name": "stdout",
          "text": [
            "Principle amount = 50000\n",
            "Time period = 2\n",
            "Rate of Interest = 5.2\n",
            "Your interest for the loaned amount is 5200.0 Rupees.\n"
          ]
        }
      ],
      "source": [
        "p=float(input('Principle amount = '))\n",
        "n=float(input('Time period = '))\n",
        "r=float(input('Rate of Interest = '))\n",
        "simple_interest=(p*n*r)/100\n",
        "SI=str(simple_interest)\n",
        "print('Your interest for the loaned amount is '+SI+' Rupees.')"
      ]
    },
    {
      "cell_type": "markdown",
      "metadata": {
        "id": "afLADSCGIZ_G"
      },
      "source": [
        "10.Python code to calculate the square root of the given number(run time variable)"
      ]
    },
    {
      "cell_type": "code",
      "execution_count": null,
      "metadata": {
        "colab": {
          "base_uri": "https://localhost:8080/"
        },
        "id": "XBTku4euIZ_H",
        "outputId": "9336d1cc-6b15-4e15-d050-eb501289d0a4"
      },
      "outputs": [
        {
          "output_type": "stream",
          "name": "stdout",
          "text": [
            "Enter the number - 200\n",
            "Square root of the given number is 14.142135623730951.2\n"
          ]
        }
      ],
      "source": [
        "x=float(input('Enter the number - '))\n",
        "sqrt_0=x**0.5\n",
        "sqrt=str(sqrt_0)\n",
        "print('Square root of the given number is '+sqrt+'.2')"
      ]
    }
  ],
  "metadata": {
    "colab": {
      "provenance": []
    },
    "kernelspec": {
      "display_name": "Python 3 (ipykernel)",
      "language": "python",
      "name": "python3"
    },
    "language_info": {
      "codemirror_mode": {
        "name": "ipython",
        "version": 3
      },
      "file_extension": ".py",
      "mimetype": "text/x-python",
      "name": "python",
      "nbconvert_exporter": "python",
      "pygments_lexer": "ipython3",
      "version": "3.9.13"
    }
  },
  "nbformat": 4,
  "nbformat_minor": 0
}